{
 "cells": [
  {
   "cell_type": "code",
   "execution_count": 1,
   "id": "270a1d84-b16d-41f8-b0d4-ce69ed4d2e1b",
   "metadata": {},
   "outputs": [],
   "source": [
    "import findspark\n",
    "findspark.init()"
   ]
  },
  {
   "cell_type": "code",
   "execution_count": 2,
   "id": "954103c8-8de5-4b0a-b654-49a386e36094",
   "metadata": {},
   "outputs": [],
   "source": [
    "import pyspark\n",
    "from pyspark.sql import SparkSession\n",
    "from pyspark.sql.types import StructType,StructField, StringType, IntegerType, TimestampType\n",
    "from pyspark.sql.functions import col, to_date"
   ]
  },
  {
   "cell_type": "code",
   "execution_count": 4,
   "id": "5a073c3f-1da7-44b6-995c-ce6e14c776ec",
   "metadata": {},
   "outputs": [
    {
     "name": "stderr",
     "output_type": "stream",
     "text": [
      "24/03/03 21:12:30 WARN SparkSession: Using an existing Spark session; only runtime SQL configurations will take effect.\n"
     ]
    }
   ],
   "source": [
    "spark = SparkSession.builder \\\n",
    "    .master(\"spark://localhost:7077\") \\\n",
    "    .appName('test') \\\n",
    "    .getOrCreate()"
   ]
  },
  {
   "cell_type": "code",
   "execution_count": null,
   "id": "6a7e54e1-a23a-4c56-bfa4-290efb5df0e1",
   "metadata": {
    "scrolled": true
   },
   "outputs": [
    {
     "name": "stderr",
     "output_type": "stream",
     "text": [
      "24/03/03 21:12:54 WARN TaskSchedulerImpl: Initial job has not accepted any resources; check your cluster UI to ensure that workers are registered and have sufficient resources\n",
      "24/03/03 21:13:09 WARN TaskSchedulerImpl: Initial job has not accepted any resources; check your cluster UI to ensure that workers are registered and have sufficient resources\n",
      "24/03/03 21:13:24 WARN TaskSchedulerImpl: Initial job has not accepted any resources; check your cluster UI to ensure that workers are registered and have sufficient resources\n",
      "24/03/03 21:13:39 WARN TaskSchedulerImpl: Initial job has not accepted any resources; check your cluster UI to ensure that workers are registered and have sufficient resources\n",
      "24/03/03 21:13:54 WARN TaskSchedulerImpl: Initial job has not accepted any resources; check your cluster UI to ensure that workers are registered and have sufficient resources\n"
     ]
    }
   ],
   "source": [
    "df = spark.read \\\n",
    "    .parquet('fhv_trip/2019/10/')"
   ]
  },
  {
   "cell_type": "code",
   "execution_count": null,
   "id": "fadaeb10-bbca-4df3-b40a-99e4b946f6d3",
   "metadata": {},
   "outputs": [],
   "source": [
    "df.printSchema()"
   ]
  },
  {
   "cell_type": "code",
   "execution_count": 109,
   "id": "c640c7ea-9a0a-44b7-b530-a18d2fd8d092",
   "metadata": {
    "scrolled": true
   },
   "outputs": [
    {
     "name": "stdout",
     "output_type": "stream",
     "text": [
      "+--------------------+-------------------+-------------------+------------+------------+-------+----------------------+-----------+\n",
      "|dispatching_base_num|    pickup_datetime|   dropOff_datetime|PUlocationID|DOlocationID|SR_Flag|Affiliated_base_number|pickup_date|\n",
      "+--------------------+-------------------+-------------------+------------+------------+-------+----------------------+-----------+\n",
      "|              B03162|2019-10-15 09:34:17|2019-10-15 10:16:32|          69|          32|   NULL|                B03162| 2019-10-15|\n",
      "|              B02182|2019-10-15 11:45:48|2019-10-15 12:33:24|         264|         264|   NULL|                B02835| 2019-10-15|\n",
      "|              B00256|2019-10-15 09:41:20|2019-10-15 10:18:31|         264|         264|   NULL|                B00256| 2019-10-15|\n",
      "|              B00706|2019-10-15 17:30:17|2019-10-15 17:53:42|         245|         221|   NULL|                B00706| 2019-10-15|\n",
      "|              B00457|2019-10-15 05:09:51|2019-10-15 05:18:50|         264|         212|   NULL|                B00457| 2019-10-15|\n",
      "|              B00887|2019-10-15 12:07:00|2019-10-15 12:29:57|         264|           1|   NULL|                B00887| 2019-10-15|\n",
      "|              B02849|2019-10-15 13:50:10|2019-10-15 14:20:21|         264|          17|   NULL|                B02849| 2019-10-15|\n",
      "|              B00256|2019-10-15 20:56:24|2019-10-15 21:59:01|         264|         264|   NULL|                B00256| 2019-10-15|\n",
      "|              B02293|2019-10-15 14:03:56|2019-10-15 14:50:12|          71|         130|   NULL|                B02293| 2019-10-15|\n",
      "|              B01362|2019-10-15 20:42:34|2019-10-15 21:04:09|         264|         248|   NULL|                B01362| 2019-10-15|\n",
      "|              B03060|2019-10-15 18:46:58|2019-10-15 18:54:29|         264|          89|   NULL|                B03060| 2019-10-15|\n",
      "|              B01362|2019-10-15 10:47:58|2019-10-15 10:54:31|         264|         168|   NULL|                B01362| 2019-10-15|\n",
      "|              B02783|2019-10-15 08:17:12|2019-10-15 09:17:29|         264|         198|   NULL|                B02783| 2019-10-15|\n",
      "|              B01057|2019-10-15 18:45:00|2019-10-15 19:25:00|         264|         264|   NULL|                B01057| 2019-10-15|\n",
      "|              B00856|2019-10-15 18:45:53|2019-10-15 18:55:32|         264|          76|   NULL|                B02133| 2019-10-15|\n",
      "|              B01984|2019-10-15 07:47:00|2019-10-15 08:01:00|         264|          22|   NULL|                B01984| 2019-10-15|\n",
      "|              B00256|2019-10-15 11:51:55|2019-10-15 12:20:12|         264|         264|   NULL|                B00256| 2019-10-15|\n",
      "|              B01984|2019-10-15 08:51:00|2019-10-15 09:06:00|         264|          92|   NULL|                B01984| 2019-10-15|\n",
      "|              B01196|2019-10-15 13:49:32|2019-10-15 13:55:56|         264|          18|   NULL|                B01196| 2019-10-15|\n",
      "|              B00937|2019-10-15 11:36:21|2019-10-15 11:58:34|         264|         182|   NULL|                B00937| 2019-10-15|\n",
      "+--------------------+-------------------+-------------------+------------+------------+-------+----------------------+-----------+\n",
      "only showing top 20 rows\n",
      "\n"
     ]
    }
   ],
   "source": [
    "# To filter on 2019-10-15\n",
    "df = df.withColumn(\"pickup_date\",to_date(\"pickup_datetime\"))\n",
    "filterred_trip = df.filter(col(\"pickup_date\") == \"2019-10-15\")\n",
    "filterred_trip.show()"
   ]
  },
  {
   "cell_type": "code",
   "execution_count": 118,
   "id": "25d30252-682c-493c-8af8-8f095a6b5891",
   "metadata": {},
   "outputs": [
    {
     "name": "stdout",
     "output_type": "stream",
     "text": [
      "631152.5\n"
     ]
    }
   ],
   "source": [
    "# Find the longest trip\n",
    "df = df.withColumn(\"duration_seconds\", (col(\"dropOff_datetime\").cast(\"long\") - col(\"pickup_datetime\").cast(\"long\")))\n",
    "longest_trip = df.orderBy(col(\"duration_seconds\").desc()).first()\n",
    "\n",
    "duration_seconds = longest_trip[\"duration_seconds\"]\n",
    "duration_hours = duration_seconds / 3600"
   ]
  },
  {
   "cell_type": "code",
   "execution_count": 127,
   "id": "837d1f3f-c797-4c93-920b-4df540668355",
   "metadata": {},
   "outputs": [
    {
     "name": "stdout",
     "output_type": "stream",
     "text": [
      "Least frequent pickup location zone:\n"
     ]
    },
    {
     "data": {
      "text/plain": [
       "Row(PUlocationID=2, count=1, LocationID=2, Borough='Queens', Zone='Jamaica Bay', service_zone='Boro Zone')"
      ]
     },
     "execution_count": 127,
     "metadata": {},
     "output_type": "execute_result"
    }
   ],
   "source": [
    "# Least frequent pickup location zone\n",
    "zone_df = spark.read.csv('taxi_zone_lookup.csv', header=True, inferSchema=True)\n",
    "\n",
    "pickup_counts_df = df.groupBy(\"PUlocationID\").count()\n",
    "\n",
    "result_df = pickup_counts_df.join(zone_df, pickup_counts_df[\"PUlocationID\"] == zone_df[\"LocationID\"])\n",
    "\n",
    "least_frequent_zone = result_df.orderBy(col(\"count\")).first()\n",
    "\n",
    "# Display the result\n",
    "print(\"Least frequent pickup location zone:\")\n",
    "least_frequent_zone"
   ]
  }
 ],
 "metadata": {
  "kernelspec": {
   "display_name": "Python 3 (ipykernel)",
   "language": "python",
   "name": "python3"
  },
  "language_info": {
   "codemirror_mode": {
    "name": "ipython",
    "version": 3
   },
   "file_extension": ".py",
   "mimetype": "text/x-python",
   "name": "python",
   "nbconvert_exporter": "python",
   "pygments_lexer": "ipython3",
   "version": "3.9.6"
  }
 },
 "nbformat": 4,
 "nbformat_minor": 5
}
